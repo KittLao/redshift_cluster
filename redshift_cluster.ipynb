{
  "nbformat": 4,
  "nbformat_minor": 0,
  "metadata": {
    "colab": {
      "provenance": [],
      "authorship_tag": "ABX9TyNrnOCf9iVeUsTFElCQcSB4",
      "include_colab_link": true
    },
    "kernelspec": {
      "name": "python3",
      "display_name": "Python 3"
    },
    "language_info": {
      "name": "python"
    }
  },
  "cells": [
    {
      "cell_type": "markdown",
      "metadata": {
        "id": "view-in-github",
        "colab_type": "text"
      },
      "source": [
        "<a href=\"https://colab.research.google.com/github/KittLao/redshift_cluster/blob/main/redshift_cluster.ipynb\" target=\"_parent\"><img src=\"https://colab.research.google.com/assets/colab-badge.svg\" alt=\"Open In Colab\"/></a>"
      ]
    },
    {
      "cell_type": "code",
      "source": [
        "!pip install boto3"
      ],
      "metadata": {
        "id": "qCHKqPHBI_xI"
      },
      "execution_count": null,
      "outputs": []
    },
    {
      "cell_type": "code",
      "execution_count": null,
      "metadata": {
        "id": "vWDDnRwOIiIt"
      },
      "outputs": [],
      "source": [
        "import pandas as pd\n",
        "import boto3\n",
        "import json"
      ]
    },
    {
      "cell_type": "markdown",
      "source": [
        "# Mount Drive"
      ],
      "metadata": {
        "id": "hq_wAXnmMUSS"
      }
    },
    {
      "cell_type": "code",
      "source": [
        "from google.colab import drive\n",
        "drive.mount('/content/drive')"
      ],
      "metadata": {
        "id": "nweSCBHdL198"
      },
      "execution_count": null,
      "outputs": []
    },
    {
      "cell_type": "code",
      "source": [
        "path_to_cwd = \"drive/MyDrive/Colab Notebooks/AWS/\""
      ],
      "metadata": {
        "id": "0w51E7J9MbX7"
      },
      "execution_count": null,
      "outputs": []
    },
    {
      "cell_type": "markdown",
      "source": [
        "# Setup Configurations\n",
        "\n",
        "Make sure dwh.cfg is populated with correct configurations and exists in same directory as this notebook."
      ],
      "metadata": {
        "id": "oLflhxeoI6Zr"
      }
    },
    {
      "cell_type": "code",
      "source": [
        "import configparser\n",
        "config = configparser.ConfigParser()\n",
        "config.read_file(open(path_to_cwd + 'dwh.cfg'))\n",
        "\n",
        "KEY                    = config.get('AWS','KEY')\n",
        "SECRET                 = config.get('AWS','SECRET')\n",
        "\n",
        "DWH_CLUSTER_TYPE       = config.get(\"DWH\",\"DWH_CLUSTER_TYPE\")\n",
        "DWH_NUM_NODES          = config.get(\"DWH\",\"DWH_NUM_NODES\")\n",
        "DWH_NODE_TYPE          = config.get(\"DWH\",\"DWH_NODE_TYPE\")\n",
        "\n",
        "DWH_CLUSTER_IDENTIFIER = config.get(\"DWH\",\"DWH_CLUSTER_IDENTIFIER\")\n",
        "DWH_DB                 = config.get(\"DWH\",\"DWH_DB\")\n",
        "DWH_DB_USER            = config.get(\"DWH\",\"DWH_DB_USER\")\n",
        "DWH_DB_PASSWORD        = config.get(\"DWH\",\"DWH_DB_PASSWORD\")\n",
        "DWH_PORT               = config.get(\"DWH\",\"DWH_PORT\")\n",
        "\n",
        "DWH_IAM_ROLE_NAME      = config.get(\"DWH\", \"DWH_IAM_ROLE_NAME\")\n",
        "\n",
        "(DWH_DB_USER, DWH_DB_PASSWORD, DWH_DB)\n",
        "\n",
        "pd.DataFrame({\"Param\":\n",
        "                  [\"DWH_CLUSTER_TYPE\", \"DWH_NUM_NODES\", \"DWH_NODE_TYPE\", \"DWH_CLUSTER_IDENTIFIER\", \"DWH_DB\", \"DWH_DB_USER\", \"DWH_DB_PASSWORD\", \"DWH_PORT\", \"DWH_IAM_ROLE_NAME\"],\n",
        "              \"Value\":\n",
        "                  [DWH_CLUSTER_TYPE, DWH_NUM_NODES, DWH_NODE_TYPE, DWH_CLUSTER_IDENTIFIER, DWH_DB, DWH_DB_USER, DWH_DB_PASSWORD, DWH_PORT, DWH_IAM_ROLE_NAME]\n",
        "             })"
      ],
      "metadata": {
        "id": "TDx0QsK7I6-S"
      },
      "execution_count": null,
      "outputs": []
    },
    {
      "cell_type": "markdown",
      "source": [
        "# Setup needed Clients and Resource"
      ],
      "metadata": {
        "id": "VGNgVHX6JJLg"
      }
    },
    {
      "cell_type": "code",
      "source": [
        "ec2 = boto3.resource(\n",
        "    'ec2',\n",
        "    region_name='us-east-1',\n",
        "    aws_access_key_id=KEY,\n",
        "    aws_secret_access_key=SECRET\n",
        "  )\n",
        "\n",
        "s3 = boto3.resource(\n",
        "    's3',\n",
        "    region_name='us-east-1',\n",
        "    aws_access_key_id=KEY,\n",
        "    aws_secret_access_key=SECRET\n",
        "  )\n",
        "\n",
        "iam = boto3.client(\n",
        "    'iam',\n",
        "    region_name='us-east-1',\n",
        "    aws_access_key_id=KEY,\n",
        "    aws_secret_access_key=SECRET\n",
        "  )\n",
        "\n",
        "redshift = boto3.client(\n",
        "    'redshift',\n",
        "    region_name='us-east-1',\n",
        "    aws_access_key_id=KEY,\n",
        "    aws_secret_access_key=SECRET\n",
        "  )"
      ],
      "metadata": {
        "id": "37nU7yunKUEH"
      },
      "execution_count": null,
      "outputs": []
    },
    {
      "cell_type": "code",
      "source": [
        "sampleDbBucket =  s3.Bucket(\"awssampledbuswest2\")\n",
        "for obj in sampleDbBucket.objects.filter(Prefix=\"ssbgz\"):\n",
        "  print(obj)"
      ],
      "metadata": {
        "id": "Q5U0wxoKqgtr"
      },
      "execution_count": null,
      "outputs": []
    },
    {
      "cell_type": "markdown",
      "source": [
        "# Setup IAM Role\n",
        "This IAM role allows Redshift to be able to access S3 bucket ReadOnly.\n",
        "\n",
        "Name of role is dwhRole, arn is arn:aws:iam::049086955797:role/dwhRole, and it has the policy AmazonS3ReadOnlyAccess."
      ],
      "metadata": {
        "id": "Ukl8yM6SysNu"
      }
    },
    {
      "cell_type": "code",
      "source": [
        "try:\n",
        "  print(\"Creating IAM Role\")\n",
        "  # Came directly from AWS create IAM wizard.\n",
        "  policy_statement = json.dumps(\n",
        "            {'Statement': [{'Action': 'sts:AssumeRole',\n",
        "               'Effect': 'Allow',\n",
        "               'Principal': {'Service': 'redshift.amazonaws.com'}}],\n",
        "             'Version': '2012-10-17'})\n",
        "  iam.create_role(Path=\"/\",\n",
        "                  RoleName=DWH_IAM_ROLE_NAME,\n",
        "                  Description=\"IAM Role for Redshift Cluster accessing S3.\",\n",
        "                  AssumeRolePolicyDocument=policy_statement)\n",
        "except Exception as e:\n",
        "    print(e)\n",
        "\n",
        "print(\"Attatching policy\")\n",
        "iam.attach_role_policy(RoleName=DWH_IAM_ROLE_NAME,\n",
        "                        PolicyArn=\"arn:aws:iam::aws:policy/AmazonS3ReadOnlyAccess\",\n",
        "                        )['ResponseMetadata']['HTTPStatusCode']\n",
        "\n",
        "print(\"Get the IAM role ARN\")\n",
        "roleArn = iam.get_role(RoleName=DWH_IAM_ROLE_NAME)['Role']['Arn']\n",
        "\n",
        "print(roleArn)\n"
      ],
      "metadata": {
        "id": "JVb0gN6ArtoQ"
      },
      "execution_count": null,
      "outputs": []
    },
    {
      "cell_type": "markdown",
      "source": [
        "# Create Redshift Cluster\n",
        "\n"
      ],
      "metadata": {
        "id": "dg_QWa-c8ucu"
      }
    },
    {
      "cell_type": "code",
      "source": [
        "try:\n",
        "  response = redshift.create_cluster(\n",
        "      ClusterType=DWH_CLUSTER_TYPE,\n",
        "      NodeType=DWH_NODE_TYPE,\n",
        "      NumberOfNodes = int(DWH_NUM_NODES),\n",
        "      # Identifiers and credentials\n",
        "      DBName=DWH_DB,\n",
        "      ClusterIdentifier=DWH_CLUSTER_IDENTIFIER,\n",
        "      MasterUsername=DWH_DB_USER,\n",
        "      MasterUserPassword=DWH_DB_PASSWORD,\n",
        "      # Roles for s3 access\n",
        "      IamRoles=[roleArn]\n",
        "  )\n",
        "except Exception as e:\n",
        "  print(e)\n",
        "\n",
        ""
      ],
      "metadata": {
        "id": "Zf-THQY3t-70"
      },
      "execution_count": null,
      "outputs": []
    },
    {
      "cell_type": "code",
      "source": [
        "response"
      ],
      "metadata": {
        "id": "w3YoUu3oxKiz"
      },
      "execution_count": null,
      "outputs": []
    },
    {
      "cell_type": "markdown",
      "source": [
        "## Monitor Redshift cluster status\n",
        "\n",
        "Wait untill ClusterStatus is Available"
      ],
      "metadata": {
        "id": "_H8FODq8-W2V"
      }
    },
    {
      "cell_type": "code",
      "source": [
        "def prettyRedshiftProps(props):\n",
        "    pd.set_option('display.max_colwidth', -1)\n",
        "    keysToShow = [\"ClusterIdentifier\", \"NodeType\", \"ClusterStatus\", \"MasterUsername\", \"DBName\", \"Endpoint\", \"NumberOfNodes\", 'VpcId']\n",
        "    x = [(k, v) for k,v in props.items() if k in keysToShow]\n",
        "    return pd.DataFrame(data=x, columns=[\"Key\", \"Value\"])\n",
        "\n",
        "myClusterProps = redshift.describe_clusters(ClusterIdentifier=DWH_CLUSTER_IDENTIFIER)['Clusters'][0]\n",
        "prettyRedshiftProps(myClusterProps)"
      ],
      "metadata": {
        "id": "3aQUUVBk9yyZ"
      },
      "execution_count": null,
      "outputs": []
    },
    {
      "cell_type": "markdown",
      "source": [
        "## Cluster endpoint and role ARN"
      ],
      "metadata": {
        "id": "hMrBiPJd_I5M"
      }
    },
    {
      "cell_type": "code",
      "source": [
        "DWH_ENDPOINT = myClusterProps['Endpoint']['Address']\n",
        "DWH_ROLE_ARN = myClusterProps['IamRoles'][0]['IamRoleArn']\n",
        "print(\"DWH_ENDPOINT :: \", DWH_ENDPOINT)\n",
        "print(\"DWH_ROLE_ARN :: \", DWH_ROLE_ARN)"
      ],
      "metadata": {
        "id": "JHO1Tl6b-VAH"
      },
      "execution_count": null,
      "outputs": []
    },
    {
      "cell_type": "markdown",
      "source": [
        "# Open TCP port to access endpoint"
      ],
      "metadata": {
        "id": "0JfriR8c_bNy"
      }
    },
    {
      "cell_type": "code",
      "source": [
        "try:\n",
        "    vpc = ec2.Vpc(id=myClusterProps['VpcId'])\n",
        "    defaultSg = list(vpc.security_groups.all())[0]\n",
        "    print(defaultSg)\n",
        "    defaultSg.authorize_ingress(\n",
        "        GroupName=defaultSg.group_name,\n",
        "        CidrIp='0.0.0.0/0',\n",
        "        IpProtocol='TCP',\n",
        "        FromPort=int(DWH_PORT),\n",
        "        ToPort=int(DWH_PORT)\n",
        "    )\n",
        "except Exception as e:\n",
        "    print(e)"
      ],
      "metadata": {
        "id": "Vt-qCy6U_MI3"
      },
      "execution_count": null,
      "outputs": []
    },
    {
      "cell_type": "code",
      "source": [
        "!pip install psycopg2-binary"
      ],
      "metadata": {
        "id": "gU14nQT0B3V_"
      },
      "execution_count": null,
      "outputs": []
    },
    {
      "cell_type": "code",
      "source": [
        "DWH_ENDPOINT, DWH_PORT, DWH_DB, DWH_DB_USER, DWH_DB_PASSWORD"
      ],
      "metadata": {
        "id": "GfWp5ADwCB1f"
      },
      "execution_count": null,
      "outputs": []
    },
    {
      "cell_type": "markdown",
      "source": [
        "# Verify Connection to Cluster"
      ],
      "metadata": {
        "id": "akpb1cokEUvv"
      }
    },
    {
      "cell_type": "code",
      "source": [
        "import psycopg2\n",
        "\n",
        "try:\n",
        "  print(\"Connecting to cluster\")\n",
        "  cnx = psycopg2.connect(\n",
        "      host=DWH_ENDPOINT,\n",
        "      port=DWH_PORT,\n",
        "      database=DWH_DB,\n",
        "      user=DWH_DB_USER,\n",
        "      password=DWH_DB_PASSWORD)\n",
        "  print(\"Connected to cluster\")\n",
        "except Exception as e:\n",
        "  print(e)"
      ],
      "metadata": {
        "id": "IXhrtEz9AgcG"
      },
      "execution_count": null,
      "outputs": []
    },
    {
      "cell_type": "code",
      "source": [
        "cursor = cnx.cursor()\n",
        "cursor.execute('SELECT version()')\n",
        "cursor.close()\n",
        "cnx.close()"
      ],
      "metadata": {
        "id": "oTmxdd5pAiTS"
      },
      "execution_count": null,
      "outputs": []
    },
    {
      "cell_type": "markdown",
      "source": [
        "# Clean up\n",
        "Remove cluster and detatch IAM Role policy."
      ],
      "metadata": {
        "id": "eEnvDwfnH_Bx"
      }
    },
    {
      "cell_type": "code",
      "source": [
        "# Deletes cluster and saves snapshot\n",
        "redshift.delete_cluster( ClusterIdentifier=DWH_CLUSTER_IDENTIFIER,  SkipFinalClusterSnapshot=True)\n"
      ],
      "metadata": {
        "id": "DaDe95SfIZkD"
      },
      "execution_count": null,
      "outputs": []
    },
    {
      "cell_type": "code",
      "source": [
        "myClusterProps = redshift.describe_clusters(ClusterIdentifier=DWH_CLUSTER_IDENTIFIER)['Clusters'][0]\n",
        "prettyRedshiftProps(myClusterProps)"
      ],
      "metadata": {
        "id": "OQ1GLdE8AxUj"
      },
      "execution_count": null,
      "outputs": []
    },
    {
      "cell_type": "code",
      "source": [
        "# Detatch resources made for cluster such as IAM Role.\n",
        "iam.detach_role_policy(RoleName=DWH_IAM_ROLE_NAME, PolicyArn=\"arn:aws:iam::aws:policy/AmazonS3ReadOnlyAccess\")\n",
        "iam.delete_role(RoleName=DWH_IAM_ROLE_NAME)"
      ],
      "metadata": {
        "id": "dMeSbyxeINao"
      },
      "execution_count": null,
      "outputs": []
    },
    {
      "cell_type": "code",
      "source": [],
      "metadata": {
        "id": "9r4nL2ppI1ox"
      },
      "execution_count": null,
      "outputs": []
    }
  ]
}